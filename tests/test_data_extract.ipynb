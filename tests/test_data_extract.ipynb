{
 "cells": [
  {
   "cell_type": "markdown",
   "metadata": {},
   "source": [
    "# Testes da extração de imagens"
   ]
  },
  {
   "cell_type": "markdown",
   "metadata": {},
   "source": [
    "## Importações"
   ]
  },
  {
   "cell_type": "code",
   "execution_count": 2,
   "metadata": {},
   "outputs": [],
   "source": [
    "import sys\n",
    "sys.path.append('..')  # Add parent directory to path\n",
    "\n",
    "from PIL import Image\n",
    "from src.data.data_extract import (\n",
    "    ImageDataExtractor,\n",
    "    DIV2K_TRAIN,\n",
    "    DIV2K_VALID,\n",
    "    FLICKR2K\n",
    ")\n",
    "\n",
    "BASE_URL = \"https://1drv.ms/f/c/4a433beb13092d5e/El4tCRPrO0MggEo9XQAAAAABVMTS8lLqv5YfVBIpYW0fDA\""
   ]
  },
  {
   "cell_type": "markdown",
   "metadata": {},
   "source": [
    "## Extração"
   ]
  },
  {
   "cell_type": "code",
   "execution_count": 3,
   "metadata": {},
   "outputs": [],
   "source": [
    "\n",
    "extractor = ImageDataExtractor(BASE_URL)"
   ]
  },
  {
   "cell_type": "markdown",
   "metadata": {},
   "source": [
    "## Teste de download de image do dataset: DIV2K_TRAIN"
   ]
  },
  {
   "cell_type": "code",
   "execution_count": 4,
   "metadata": {},
   "outputs": [
    {
     "name": "stderr",
     "output_type": "stream",
     "text": [
      "ERROR:src.data.data_extract:Falha ao baixar a imagem 1: 404 Client Error: Not Found for url: https://1drv.ms/f/c/4a433beb13092d5e/El4tCRPrO0MggEo9XQAAAAABVMTS8lLqv5YfVBIpYW0fDA/DIV2K_train_HR/0001.png\n"
     ]
    },
    {
     "ename": "HTTPError",
     "evalue": "404 Client Error: Not Found for url: https://1drv.ms/f/c/4a433beb13092d5e/El4tCRPrO0MggEo9XQAAAAABVMTS8lLqv5YfVBIpYW0fDA/DIV2K_train_HR/0001.png",
     "output_type": "error",
     "traceback": [
      "\u001b[0;31m---------------------------------------------------------------------------\u001b[0m",
      "\u001b[0;31mHTTPError\u001b[0m                                 Traceback (most recent call last)",
      "Cell \u001b[0;32mIn[4], line 1\u001b[0m\n\u001b[0;32m----> 1\u001b[0m image, temp_path \u001b[38;5;241m=\u001b[39m \u001b[43mextractor\u001b[49m\u001b[38;5;241;43m.\u001b[39;49m\u001b[43mget_image\u001b[49m\u001b[43m(\u001b[49m\u001b[43mDIV2K_TRAIN\u001b[49m\u001b[43m,\u001b[49m\u001b[43m \u001b[49m\u001b[38;5;241;43m1\u001b[39;49m\u001b[43m)\u001b[49m\n\u001b[1;32m      2\u001b[0m \u001b[38;5;28mprint\u001b[39m(\u001b[38;5;124mf\u001b[39m\u001b[38;5;124m\"\u001b[39m\u001b[38;5;124mImage size: \u001b[39m\u001b[38;5;132;01m{\u001b[39;00mimage\u001b[38;5;241m.\u001b[39msize\u001b[38;5;132;01m}\u001b[39;00m\u001b[38;5;124m\"\u001b[39m)\n\u001b[1;32m      3\u001b[0m image\u001b[38;5;241m.\u001b[39mshow()  \u001b[38;5;66;03m# Display the image\u001b[39;00m\n",
      "File \u001b[0;32m/app/tests/../src/data/data_extract.py:87\u001b[0m, in \u001b[0;36mImageDataExtractor.get_image\u001b[0;34m(self, config, image_number)\u001b[0m\n\u001b[1;32m     85\u001b[0m \u001b[38;5;28;01mtry\u001b[39;00m:\n\u001b[1;32m     86\u001b[0m     response \u001b[38;5;241m=\u001b[39m requests\u001b[38;5;241m.\u001b[39mget(url, stream\u001b[38;5;241m=\u001b[39m\u001b[38;5;28;01mTrue\u001b[39;00m)\n\u001b[0;32m---> 87\u001b[0m     \u001b[43mresponse\u001b[49m\u001b[38;5;241;43m.\u001b[39;49m\u001b[43mraise_for_status\u001b[49m\u001b[43m(\u001b[49m\u001b[43m)\u001b[49m\n\u001b[1;32m     89\u001b[0m     \u001b[38;5;28;01mwith\u001b[39;00m \u001b[38;5;28mopen\u001b[39m(temp_path, \u001b[38;5;124m'\u001b[39m\u001b[38;5;124mwb\u001b[39m\u001b[38;5;124m'\u001b[39m) \u001b[38;5;28;01mas\u001b[39;00m f:\n\u001b[1;32m     90\u001b[0m         \u001b[38;5;28;01mfor\u001b[39;00m chunk \u001b[38;5;129;01min\u001b[39;00m response\u001b[38;5;241m.\u001b[39miter_content(chunk_size\u001b[38;5;241m=\u001b[39m\u001b[38;5;241m8192\u001b[39m):\n",
      "File \u001b[0;32m/usr/local/lib/python3.11/dist-packages/requests/models.py:1024\u001b[0m, in \u001b[0;36mResponse.raise_for_status\u001b[0;34m(self)\u001b[0m\n\u001b[1;32m   1019\u001b[0m     http_error_msg \u001b[38;5;241m=\u001b[39m (\n\u001b[1;32m   1020\u001b[0m         \u001b[38;5;124mf\u001b[39m\u001b[38;5;124m\"\u001b[39m\u001b[38;5;132;01m{\u001b[39;00m\u001b[38;5;28mself\u001b[39m\u001b[38;5;241m.\u001b[39mstatus_code\u001b[38;5;132;01m}\u001b[39;00m\u001b[38;5;124m Server Error: \u001b[39m\u001b[38;5;132;01m{\u001b[39;00mreason\u001b[38;5;132;01m}\u001b[39;00m\u001b[38;5;124m for url: \u001b[39m\u001b[38;5;132;01m{\u001b[39;00m\u001b[38;5;28mself\u001b[39m\u001b[38;5;241m.\u001b[39murl\u001b[38;5;132;01m}\u001b[39;00m\u001b[38;5;124m\"\u001b[39m\n\u001b[1;32m   1021\u001b[0m     )\n\u001b[1;32m   1023\u001b[0m \u001b[38;5;28;01mif\u001b[39;00m http_error_msg:\n\u001b[0;32m-> 1024\u001b[0m     \u001b[38;5;28;01mraise\u001b[39;00m HTTPError(http_error_msg, response\u001b[38;5;241m=\u001b[39m\u001b[38;5;28mself\u001b[39m)\n",
      "\u001b[0;31mHTTPError\u001b[0m: 404 Client Error: Not Found for url: https://1drv.ms/f/c/4a433beb13092d5e/El4tCRPrO0MggEo9XQAAAAABVMTS8lLqv5YfVBIpYW0fDA/DIV2K_train_HR/0001.png"
     ]
    }
   ],
   "source": [
    "image, temp_path = extractor.get_image(DIV2K_TRAIN, 1)\n",
    "print(f\"Image size: {image.size}\")\n",
    "image.show()  # Display the image\n",
    "extractor.cleanup_temp_file(temp_path)"
   ]
  },
  {
   "cell_type": "markdown",
   "metadata": {},
   "source": [
    "## Teste de download de image do dataset: DIV2K_TRAIN"
   ]
  },
  {
   "cell_type": "code",
   "execution_count": null,
   "metadata": {},
   "outputs": [],
   "source": [
    "image, temp_path = extractor.get_image(DIV2K_VALID, 800)\n",
    "print(f\"Image size: {image.size}\")\n",
    "image.show()\n",
    "extractor.cleanup_temp_file(temp_path)"
   ]
  },
  {
   "cell_type": "markdown",
   "metadata": {},
   "source": [
    "## Teste de download de image do dataset: Flickr2K"
   ]
  },
  {
   "cell_type": "code",
   "execution_count": null,
   "metadata": {},
   "outputs": [],
   "source": [
    "image, temp_path = extractor.get_image(FLICKR2K, 1)\n",
    "print(f\"Image size: {image.size}\")\n",
    "image.show()\n",
    "extractor.cleanup_temp_file(temp_path)"
   ]
  },
  {
   "cell_type": "markdown",
   "metadata": {},
   "source": [
    "## Testar várias iterações"
   ]
  },
  {
   "cell_type": "code",
   "execution_count": null,
   "metadata": {},
   "outputs": [],
   "source": [
    "def test_dataset(config, num_images=5):\n",
    "    temp_files = []\n",
    "    try:\n",
    "        for idx, (image_number, image, temp_path) in enumerate(extractor.iterate_dataset(config)):\n",
    "            if idx >= num_images:\n",
    "                break\n",
    "            print(f\"Image {image_number} size: {image.size}\")\n",
    "            image.show()\n",
    "            temp_files.append(temp_path)\n",
    "    finally:\n",
    "        for temp_path in temp_files:\n",
    "            extractor.cleanup_temp_file(temp_path)\n",
    "\n",
    "# Test DIV2K_TRAIN\n",
    "print(\"Testing DIV2K_TRAIN:\")\n",
    "test_dataset(DIV2K_TRAIN)"
   ]
  }
 ],
 "metadata": {
  "kernelspec": {
   "display_name": "Python 3 (ipykernel)",
   "language": "python",
   "name": "python3"
  },
  "language_info": {
   "codemirror_mode": {
    "name": "ipython",
    "version": 3
   },
   "file_extension": ".py",
   "mimetype": "text/x-python",
   "name": "python",
   "nbconvert_exporter": "python",
   "pygments_lexer": "ipython3",
   "version": "3.11.0rc1"
  }
 },
 "nbformat": 4,
 "nbformat_minor": 4
}
